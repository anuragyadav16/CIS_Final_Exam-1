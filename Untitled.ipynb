{
 "cells": [
  {
   "cell_type": "code",
   "execution_count": 27,
   "id": "b0316550",
   "metadata": {},
   "outputs": [],
   "source": [
    "import numpy as np\n",
    "import tensorflow as tf\n",
    "from keras.models import load_model\n",
    "import os\n",
    "import pandas as pd"
   ]
  },
  {
   "cell_type": "code",
   "execution_count": 19,
   "id": "9305618d",
   "metadata": {},
   "outputs": [],
   "source": [
    "array = np.asarray([0,0,0,0,0,0,0,0,0,0,0,0,0,0,0,0,0,0,0,0])"
   ]
  },
  {
   "cell_type": "code",
   "execution_count": 20,
   "id": "e4575aa9",
   "metadata": {},
   "outputs": [
    {
     "data": {
      "text/plain": [
       "array([0, 0, 0, 0, 0, 0, 0, 0, 0, 0, 0, 0, 0, 0, 0, 0, 0, 0, 0, 0])"
      ]
     },
     "execution_count": 20,
     "metadata": {},
     "output_type": "execute_result"
    }
   ],
   "source": [
    "array"
   ]
  },
  {
   "cell_type": "code",
   "execution_count": 21,
   "id": "db613f4f",
   "metadata": {},
   "outputs": [],
   "source": [
    "array = array[None,:]"
   ]
  },
  {
   "cell_type": "code",
   "execution_count": 45,
   "id": "3c61f558",
   "metadata": {},
   "outputs": [
    {
     "data": {
      "text/plain": [
       "array([[0, 0, 0, 0, 0, 0, 0, 0, 0, 0, 0, 0, 0, 0, 0, 0, 0, 0, 0, 0]])"
      ]
     },
     "execution_count": 45,
     "metadata": {},
     "output_type": "execute_result"
    }
   ],
   "source": [
    "array"
   ]
  },
  {
   "cell_type": "code",
   "execution_count": 47,
   "id": "cd3e0760",
   "metadata": {},
   "outputs": [
    {
     "data": {
      "text/plain": [
       "dtype('int32')"
      ]
     },
     "execution_count": 47,
     "metadata": {},
     "output_type": "execute_result"
    }
   ],
   "source": [
    "array.dtype"
   ]
  },
  {
   "cell_type": "code",
   "execution_count": 23,
   "id": "beefd9ba",
   "metadata": {},
   "outputs": [
    {
     "data": {
      "text/plain": [
       "2"
      ]
     },
     "execution_count": 23,
     "metadata": {},
     "output_type": "execute_result"
    }
   ],
   "source": [
    "array.ndim"
   ]
  },
  {
   "cell_type": "code",
   "execution_count": 24,
   "id": "330feb1f",
   "metadata": {},
   "outputs": [],
   "source": [
    "model = load_model(os.getcwd()+\"/BankApp/model\")"
   ]
  },
  {
   "cell_type": "code",
   "execution_count": 25,
   "id": "8c8b5a17",
   "metadata": {},
   "outputs": [
    {
     "data": {
      "text/plain": [
       "<keras.engine.sequential.Sequential at 0x1e2196d7760>"
      ]
     },
     "execution_count": 25,
     "metadata": {},
     "output_type": "execute_result"
    }
   ],
   "source": [
    "model"
   ]
  },
  {
   "cell_type": "code",
   "execution_count": 26,
   "id": "105c8445",
   "metadata": {},
   "outputs": [
    {
     "name": "stdout",
     "output_type": "stream",
     "text": [
      "1/1 [==============================] - 0s 369ms/step\n"
     ]
    },
    {
     "data": {
      "text/plain": [
       "array([[0.00239567]], dtype=float32)"
      ]
     },
     "execution_count": 26,
     "metadata": {},
     "output_type": "execute_result"
    }
   ],
   "source": [
    "model.predict(array)"
   ]
  },
  {
   "cell_type": "code",
   "execution_count": 31,
   "id": "a4b4056c",
   "metadata": {},
   "outputs": [],
   "source": [
    "df = pd.read_csv(\"TestValues.csv\")"
   ]
  },
  {
   "cell_type": "code",
   "execution_count": 32,
   "id": "2729bb39",
   "metadata": {},
   "outputs": [],
   "source": [
    "num = np.asarray(df)"
   ]
  },
  {
   "cell_type": "code",
   "execution_count": 50,
   "id": "4d8e0844",
   "metadata": {},
   "outputs": [],
   "source": [
    "num = array[None:]"
   ]
  },
  {
   "cell_type": "code",
   "execution_count": 51,
   "id": "d4f0898b",
   "metadata": {},
   "outputs": [
    {
     "data": {
      "text/plain": [
       "array([[0, 0, 0, 0, 0, 0, 0, 0, 0, 0, 0, 0, 0, 0, 0, 0, 0, 0, 0, 0]])"
      ]
     },
     "execution_count": 51,
     "metadata": {},
     "output_type": "execute_result"
    }
   ],
   "source": [
    "num"
   ]
  },
  {
   "cell_type": "code",
   "execution_count": 52,
   "id": "0ebca9b4",
   "metadata": {},
   "outputs": [],
   "source": [
    "model = load_model(os.getcwd()+\"/BankApp/model\")"
   ]
  },
  {
   "cell_type": "code",
   "execution_count": 53,
   "id": "5ad1b292",
   "metadata": {},
   "outputs": [
    {
     "name": "stdout",
     "output_type": "stream",
     "text": [
      "1/1 [==============================] - 0s 316ms/step\n"
     ]
    },
    {
     "data": {
      "text/plain": [
       "array([[0.00239567]], dtype=float32)"
      ]
     },
     "execution_count": 53,
     "metadata": {},
     "output_type": "execute_result"
    }
   ],
   "source": [
    "model.predict(num)"
   ]
  },
  {
   "cell_type": "code",
   "execution_count": 54,
   "id": "f019454f",
   "metadata": {},
   "outputs": [
    {
     "name": "stdout",
     "output_type": "stream",
     "text": [
      "1/1 [==============================] - 0s 20ms/step\n"
     ]
    },
    {
     "data": {
      "text/plain": [
       "0"
      ]
     },
     "execution_count": 54,
     "metadata": {},
     "output_type": "execute_result"
    }
   ],
   "source": [
    "prediction = np.argmax(model.predict(num))\n",
    "prediction"
   ]
  },
  {
   "cell_type": "code",
   "execution_count": 56,
   "id": "c46ff64b",
   "metadata": {},
   "outputs": [
    {
     "name": "stdout",
     "output_type": "stream",
     "text": [
      "1/1 [==============================] - 0s 277ms/step\n"
     ]
    },
    {
     "data": {
      "text/plain": [
       "array([[0]])"
      ]
     },
     "execution_count": 56,
     "metadata": {},
     "output_type": "execute_result"
    }
   ],
   "source": [
    "np.where(model.predict(num) >=0.5,1,0)"
   ]
  },
  {
   "cell_type": "code",
   "execution_count": 40,
   "id": "69d1423b",
   "metadata": {},
   "outputs": [
    {
     "data": {
      "text/plain": [
       "'NOT SUBSCRIBE TO A TERM DEPOSIT'"
      ]
     },
     "execution_count": 40,
     "metadata": {},
     "output_type": "execute_result"
    }
   ],
   "source": [
    "if prediction == 1:\n",
    "    outcome = \"SUBSCRIBE TO A TERM DEPOSIT\"\n",
    "else:\n",
    "    outcome = \"NOT SUBSCRIBE TO A TERM DEPOSIT\"\n",
    "    \n",
    "outcome"
   ]
  },
  {
   "cell_type": "code",
   "execution_count": 43,
   "id": "c55b9242",
   "metadata": {},
   "outputs": [
    {
     "data": {
      "text/plain": [
       "'SUBSCRIBE TO A TERM DEPOSIT'"
      ]
     },
     "execution_count": 43,
     "metadata": {},
     "output_type": "execute_result"
    }
   ],
   "source": [
    "if pred == 1:\n",
    "    outcome = \"SUBSCRIBE TO A TERM DEPOSIT\"\n",
    "else:\n",
    "    outcome = \"NOT SUBSCRIBE TO A TERM DEPOSIT\"\n",
    "    \n",
    "outcome"
   ]
  },
  {
   "cell_type": "code",
   "execution_count": 59,
   "id": "6d240d54",
   "metadata": {},
   "outputs": [],
   "source": [
    "location = \"{}\\\\model\".format(os.getcwd())"
   ]
  },
  {
   "cell_type": "code",
   "execution_count": 60,
   "id": "e0448d94",
   "metadata": {},
   "outputs": [
    {
     "data": {
      "text/plain": [
       "'C:\\\\Users\\\\anura\\\\Desktop\\\\CIS_Final_Exam-1\\\\model'"
      ]
     },
     "execution_count": 60,
     "metadata": {},
     "output_type": "execute_result"
    }
   ],
   "source": [
    "location"
   ]
  },
  {
   "cell_type": "code",
   "execution_count": null,
   "id": "a61898a6",
   "metadata": {},
   "outputs": [],
   "source": []
  }
 ],
 "metadata": {
  "kernelspec": {
   "display_name": "Python 3 (ipykernel)",
   "language": "python",
   "name": "python3"
  },
  "language_info": {
   "codemirror_mode": {
    "name": "ipython",
    "version": 3
   },
   "file_extension": ".py",
   "mimetype": "text/x-python",
   "name": "python",
   "nbconvert_exporter": "python",
   "pygments_lexer": "ipython3",
   "version": "3.9.12"
  }
 },
 "nbformat": 4,
 "nbformat_minor": 5
}
